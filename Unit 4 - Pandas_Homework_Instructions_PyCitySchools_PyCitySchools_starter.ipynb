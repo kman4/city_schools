#!/usr/bin/env python
# coding: utf-8

# ### Note
# * Instructions have been included for each segment. You do not have to follow them exactly, but they are included to help you think through the steps.

# In[1]:


# Dependencies and Setup
import pandas as pd
import numpy as np
import os


# In[2]:


# Loading Files
schools_path = os.path.join("Resources","schools_complete.csv")
students_path = os.path.join("Resources","students_complete.csv")


# In[3]:


# Read School and Student Data File and store into Pandas DataFrames
school_data_df = pd.read_csv(schools_path)
student_data_df = pd.read_csv(students_path)

student_data_df
school_data_df


# In[4]:


# Combine the data into a single dataset.  
completedata_df = pd.merge(student_data_df, school_data_df, how="left", on=["school_name", "school_name"])

completedata_df


# ## District Summary
# 
# * Calculate the total number of schools
# 
# * Calculate the total number of students
# 
# * Calculate the total budget
# 
# * Calculate the average math score 
# 
# * Calculate the average reading score
# 
# * Calculate the percentage of students with a passing math score (70 or greater)
# 
# * Calculate the percentage of students with a passing reading score (70 or greater)
# 
# * Calculate the percentage of students who passed math **and** reading (% Overall Passing)
# 
# * Create a dataframe to hold the above results
# 
# * Optional: give the displayed data cleaner formatting

# ## School Summary

# In[5]:


#Calculating Total school count

unique_school = len(completedata_df['school_name'].unique())


#Calculating Total student count

count_student = completedata_df['student_name'].count()


#Calculating Budget

total_budget = completedata_df['budget'].unique().sum()


#Calculating Average Math Score

avg_math =  completedata_df["math_score"].mean()


#Calculating Average Rading Score

avg_read =  completedata_df["reading_score"].mean()


#Calculate the percentage of students with a passing math score (70 or greater)

math_pass =  completedata_df.loc[completedata_df['math_score'] >= 70]['student_name'].count() 
math_perc =  math_pass / count_student * 100

#Calculate the percentage of students with a passing reading score (70 or greater)

read_pass =  completedata_df.loc[completedata_df['reading_score'] >= 70]['student_name'].count() 
read_perc =  read_pass / count_student * 100


#Calculate the percentage of students who passed math and reading (% Overall Passing)
passed_math = completedata_df.loc[(completedata_df['math_score'] >= 70) & (completedata_df['reading_score'] >= 70)]['student_name'].count()
perc_total  = passed_math/ count_student*100


#Create a dataframe to hold the above results

summary_df = pd.DataFrame ({ "Total Schools": [unique_school],
    "Total Students": [count_student],
    "Total Budget": [total_budget],
    "Average Math Score": [avg_math],
    "Average Reading Score": [avg_read],
    "% Passing Math": [math_perc],
    "% Passing Reading":[read_perc],
    "Overall Passing Rate": [perc_total] })



#Optional: give the displayed data cleaner formatting
#format cells
summary_df.style.format ({ "Total Budget": "${:,.2f}", 
                       "Average Math Score": "{:.6f}", 
                       "Average Reading Score": "{:.6f}", 
                       "% Passing Reading": "{:.6f}",
                       "% Passing Math": "{:.6f}",
                       "Overall Passing Rate":"{:.6f}" })
        
           


# * Create an overview table that summarizes key metrics about each school, including:
#   * School Name
#   * School Type
#   * Total Students
#   * Total School Budget
#   * Per Student Budget
#   * Average Math Score
#   * Average Reading Score
#   * % Passing Math
#   * % Passing Reading
#   * % Overall Passing (The percentage of students that passed math **and** reading.)
#   
# * Create a dataframe to hold the above results

# In[6]:


# Calculating Mean for reading and math score by using aggregation functionality

agg_dict={ 'reading_score': np.mean, 'math_score':np.mean }

#renaming columns

rename_columns=({'reading_score': 'Average Reading Score',
                'math_score':'Average Math Score'})
              

#groups by school,type,size,budget, and renaming column
school_sum=completedata_df.groupby(['school_name', 'type', 'size', 'budget']).agg(agg_dict).rename(columns=rename_columns).reset_index()

# Calculating Student Budget

school_sum['Per student budget']= school_sum['budget']/school_sum['size']

# Calculating Passing math score

school_sum['% Passing Math']= completedata_df.loc[completedata_df['math_score'] >= 70]['school_name'].count() /count_student*100

# Calculating Passing reading score

school_sum['% Passing Reading']= completedata_df.loc[completedata_df['reading_score'] >= 70]['school_name'].count() /count_student*100

#Calculate the percentage of students who passed math and reading (% Overall Passing)
school_sum['% Overall Passing'] = completedata_df.loc[(completedata_df['math_score'] >= 70) & (completedata_df['reading_score'] >= 70)]['school_name'].count()/count_student*100

####HELP#############

school_sum
'''school_sum = pd.DataFrame({
    "School Type": type,
    "Total Students": size,
    "Per Student Budget": Per student budget,
    "Total School Budget": budget,
    "Average Math Score": math_avg ,
    "Average Reading Score": read_avg,
    "% Passing Math": pass_math,
    "% Passing Reading": pass_read,
   "% Overall Passing": overall_pass })'''


school_sum.style.format({'Total Students': '{:,}', 
                          "budget": "${:,.2f}", 
                          "Per student budget": "${:,.2f}",
                          'Average Math Score': "{:.6f}", 
                          'Average Reading Score': "{:.6f}", 
                          "% Passing Math": "{:.6f}", 
                          "% Passing Reading": "{:.6f}", 
                          "Overall Passing Rate": "{:.6f}"})


# ## Top Performing Schools (By % Overall Passing)

# * Sort and display the top five performing schools by % overall passing.

# In[7]:


# sort values by passing rate and then only print top 5 
top_5 = school_sum.sort_values("Overall Passing Rate", ascending = False)
top_5.head().style.format({'Total Students': '{:,}',
                           "Total School Budget": "${:,}", 
                           "Per Student Budget": "${:.0f}", 
                           "% Passing Math": "{:.1%}", 
                           "% Passing Reading": "{:.1%}", 
                           "Overall Passing Rate": "{:.1%}"})


# ## Bottom Performing Schools (By % Overall Passing)

# * Sort and display the five worst-performing schools by % overall passing.

# In[ ]:


#bottom 5 schools from worse to best
#take tail of top5 sort and re-sort from worst to best
bottom_5 = top_5.tail()
bottom_5 = bottom_5.sort_values('Overall Passing Rate')
bottom_5.style.format({'Total Students': '{:,}', 
                       "Total School Budget": "${:,}", 
                       "Per Student Budget": "${:.0f}", 
                       "% Passing Math": "{:.1%}", 
                       "% Passing Reading": "{:.1%}", 
                       "Overall Passing Rate": "{:.1%}"})


# ## Math Scores by Grade

# * Create a table that lists the average Reading Score for students of each grade level (9th, 10th, 11th, 12th) at each school.
# 
#   * Create a pandas series for each grade. Hint: use a conditional statement.
#   
#   * Group each series by school
#   
#   * Combine the series into a dataframe
#   
#   * Optional: give the displayed data cleaner formatting

# In[ ]:


#creates grade level average math scores for each school 
ninth_math = student_data_df.loc[student_data_df['grade'] == '9th'].groupby('school_name')["math_score"].mean()
tenth_math = student_data_df.loc[student_data_df['grade'] == '10th'].groupby('school_name')["math_score"].mean()
eleventh_math = student_data_df.loc[student_data_df['grade'] == '11th'].groupby('school_name')["math_score"].mean()
twelfth_math = student_data_df.loc[student_data_df['grade'] == '12th'].groupby('school_name')["math_score"].mean()

math_scores = pd.DataFrame({
        "9th": ninth_math,
        "10th": tenth_math,
        "11th": eleventh_math,
        "12th": twelfth_math
})
math_scores = math_scores[['9th', '10th', '11th', '12th']]
math_scores.index.name = "School"

#show and format
math_scores.style.format({'9th': '{:.6f}', 
                          "10th": '{:.6f}', 
                          "11th": "{:.6f}", 
                          "12th": "{:.6f}"})


# ## Reading Score by Grade 

# * Perform the same operations as above for reading scores

# In[ ]:


#creates grade level average reading scores for each school
ninth_reading = student_data_df.loc[student_data_df['grade'] == '9th'].groupby('school_name')["reading_score"].mean()
tenth_reading = student_data_df.loc[student_data_df['grade'] == '10th'].groupby('school_name')["reading_score"].mean()
eleventh_reading = student_data_df.loc[student_data_df['grade'] == '11th'].groupby('school_name')["reading_score"].mean()
twelfth_reading = student_data_df.loc[student_data_df['grade'] == '12th'].groupby('school_name')["reading_score"].mean()

#merges the reading score averages by school and grade together
reading_scores = pd.DataFrame({
        "9th": ninth_reading,
        "10th": tenth_reading,
        "11th": eleventh_reading,
        "12th": twelfth_reading
})
reading_scores = reading_scores[['9th', '10th', '11th', '12th']]
reading_scores.index.name = "School"

#format
reading_scores.style.format({'9th': '{:.6f}', 
                             "10th": '{:.6f}', 
                             "11th": "{:.6f}", 
                             "12th": "{:.6f}"})


# ## Scores by School Spending

# * Create a table that breaks down school performances based on average Spending Ranges (Per Student). Use 4 reasonable bins to group school spending. Include in the table each of the following:
#   * Average Math Score
#   * Average Reading Score
#   * % Passing Math
#   * % Passing Reading
#   * Overall Passing Rate (Average of the above two)

# In[ ]:


# create spending bins
bins = [0,589.999, 629.999, 644.999, 999999]
group_name = ['< $584', "$585 - 629", "$630 - 644", "$645-675"]
completedata_df['spending_bins'] = pd.cut(completedata_df['budget']/completedata_df['size'], bins, labels = group_name)

#group by spending
by_spending = completedata_df.groupby('spending_bins')

#calculations
avg_math = by_spending['math_score'].mean()
avg_read = by_spending['reading_score'].mean()
pass_math = completedata_df[completedata_df['math_score'] >= 70].groupby('spending_bins')['Student ID'].count()/by_spending['Student ID'].count()*100
pass_read = completedata_df[completedata_df['reading_score'] >= 70].groupby('spending_bins')['Student ID'].count()/by_spending['Student ID'].count()*100
overall = completedata_df[(completedata_df['reading_score'] >= 70) & (completedata_df['math_score'] >= 70)].groupby('spending_bins')['Student ID'].count()/by_spending['Student ID'].count()*100

            
# df build            
scores_by_spend = pd.DataFrame({
    "Average Math Score": avg_math,
    "Average Reading Score": avg_read,
    '% Passing Math': pass_math,
    '% Passing Reading': pass_read,
    "Overall Passing Rate": overall
            
})
            
#reorder columns
scores_by_spend = scores_by_spend[[
    "Average Math Score",
    "Average Reading Score",
    '% Passing Math',
    '% Passing Reading',
    "Overall Passing Rate"
]]

scores_by_spend.index.name = "Per Student Budget"
scores_by_spend = scores_by_spend.reindex(group_name)

#formating
scores_by_spend.style.format({'Average Math Score': '{:.2f}', 
                              'Average Reading Score': '{:.2f}', 
                              '% Passing Math': '{:.2f}', 
                              '% Passing Reading':'{:.2f}', 
                              'Overall Passing Rate': '{:.2f}'})


# * Perform the same operations as above, based on school size.

# ## Scores by School Size

# In[ ]:


completedata_df.head()


# In[ ]:


# create size bins
bins = [0, 999, 1999, 99999999999]
group_name = ["Small (<1000)", "Medium (1000-2000)" , "Large (2000-5000)"]
completedata_df['size_bins'] = pd.cut(completedata_df['size'], bins, labels = group_name)

#group by spending
by_size = completedata_df.groupby('size_bins')

#calculations 
avg_math = by_size['math_score'].mean()
avg_read = by_size['math_score'].mean()
pass_math = completedata_df[completedata_df['math_score'] >= 70].groupby('size_bins')['Student ID'].count()/by_size['Student ID'].count()*100
pass_read = completedata_df[completedata_df['reading_score'] >= 70].groupby('size_bins')['Student ID'].count()/by_size['Student ID'].count()*100
overall = completedata_df[(completedata_df['reading_score'] >= 70) & (completedata_df['math_score'] >= 70)].groupby('size_bins')['Student ID'].count()/by_size['Student ID'].count()*100

            
# df build            
scores_by_size = pd.DataFrame({
    "Average Math Score": avg_math,
    "Average Reading Score": avg_read,
    '% Passing Math': pass_math,
    '% Passing Reading': pass_read,
    "Overall Passing Rate": overall
            
})
            
#reorder columns
scores_by_size = scores_by_size[[
    "Average Math Score",
    "Average Reading Score",
    '% Passing Math',
    '% Passing Reading',
    "Overall Passing Rate"
]]

scores_by_size.index.name = "Total Students"
scores_by_size = scores_by_size.reindex(group_name)

#formating
scores_by_size.style.format({'Average Math Score': '{:.6f}', 
                              'Average Reading Score': '{:.6f}', 
                              '% Passing Math': '{:.6f}', 
                              '% Passing Reading':'{:.6f}', 
                              'Overall Passing Rate': '{:.6f}'})


# ## Scores by School Type

# * Perform the same operations as above, based on school type

# In[ ]:


# group by type of school
by_type = completedata_df.groupby("type")

#calculations 
avg_math = by_type['math_score'].mean()
avg_read = by_type['math_score'].mean()
pass_math = completedata_df[completedata_df['math_score'] >= 70].groupby('type')['Student ID'].count()/by_type['Student ID'].count()*100
pass_read = completedata_df[completedata_df['reading_score'] >= 70].groupby('type')['Student ID'].count()/by_type['Student ID'].count()*100
overall = completedata_df[(completedata_df['reading_score'] >= 70) & (completedata_df['math_score'] >= 70)].groupby('type')['Student ID'].count()/by_type['Student ID'].count()*100

# df build            
scores_by_type = pd.DataFrame({
    "Average Math Score": avg_math,
    "Average Reading Score": avg_read,
    '% Passing Math': pass_math,
    '% Passing Reading': pass_read,
    "Overall Passing Rate": overall})
    
#reorder columns
scores_by_type = scores_by_type[[
    "Average Math Score",
    "Average Reading Score",
    '% Passing Math',
    '% Passing Reading',
    "Overall Passing Rate"
]]
scores_by_type.index.name = "Type of School"


#formating
scores_by_type.style.format({'Average Math Score': '{:.6f}', 
                              'Average Reading Score': '{:.6f}', 
                              '% Passing Math': '{:.6f}', 
                              '% Passing Reading':'{:.6f}', 
                              'Overall Passing Rate': '{:.6f}'})


# In[ ]:




